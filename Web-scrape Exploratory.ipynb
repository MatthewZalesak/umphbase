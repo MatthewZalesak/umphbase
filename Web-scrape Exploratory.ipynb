{
 "cells": [
  {
   "cell_type": "code",
   "execution_count": 1,
   "metadata": {},
   "outputs": [],
   "source": [
    "# imports\n",
    "from selenium import webdriver\n",
    "from bs4 import BeautifulSoup\n",
    "import pandas as pd\n",
    "from datetime import datetime\n",
    "import re"
   ]
  },
  {
   "cell_type": "code",
   "execution_count": 2,
   "metadata": {},
   "outputs": [],
   "source": [
    "# set driver to chrome\n",
    "driver = webdriver.Chrome(\"/Applications/chromedriver\")"
   ]
  },
  {
   "cell_type": "code",
   "execution_count": 3,
   "metadata": {},
   "outputs": [],
   "source": [
    "# go to the umphreys all things URL\n",
    "url = \"https://allthings.umphreys.com/setlists/\"\n",
    "driver.get(url)"
   ]
  },
  {
   "cell_type": "code",
   "execution_count": 4,
   "metadata": {},
   "outputs": [],
   "source": [
    "# load the main page\n",
    "content = driver.page_source\n",
    "soup = BeautifulSoup(content)"
   ]
  },
  {
   "cell_type": "code",
   "execution_count": 5,
   "metadata": {
    "scrolled": true
   },
   "outputs": [],
   "source": [
    "shows = {}\n",
    "\n",
    "# iterate through the years\n",
    "for year in soup.findAll('a', attrs={'class':'setlistbutton btn btn-small btn-default'}):\n",
    "    year_url = url + str(year.get('rel')[0]) + \".html\"\n",
    "    # go to year url\n",
    "    driver.get(year_url)\n",
    "    content = driver.page_source\n",
    "    soup = BeautifulSoup(content)\n",
    "    \n",
    "    # scrape every show of this year\n",
    "    for show in soup.findAll('section', attrs={'class':'setlist'}):\n",
    "        \n",
    "        # get show date and title of show\n",
    "        header = show.find('h3', attrs={'class':'splashtitle'})\n",
    "        date = header.find('a', attrs={'class':'setlistdate'}).findAll(text=True)[0].strip()\n",
    "        title = ''.join(header.findAll(text=True)[1:]).strip()\n",
    "        \n",
    "        # get dictionary of setlabel to setlist for every set\n",
    "        if 'Setlist Unknown (but it was probably awesome)' in str(show.findAll('p',recursive=False, text=True)):\n",
    "            sets = None\n",
    "        else:\n",
    "            sets = {}\n",
    "            for setlist in show.findAll('p',recursive=False):\n",
    "                song_titles = []\n",
    "                setlabel = setlist.find('b', attrs={'class':'setlabel'})\n",
    "                setlabel = list(setlabel)[0].strip().rstrip(':')\n",
    "                song_titles = ''.join(setlist.findAll(text=True)[1:]).strip()\n",
    "                sets[setlabel] = song_titles\n",
    "        \n",
    "        # get setlist meta date\n",
    "        meta = ''.join(show.find('div', attrs={'class':'showmeta'}).findAll(text=True))\n",
    "        \n",
    "        # get the reviews (if any)\n",
    "        tmp = meta.split('Reviews:')\n",
    "        reviews = None if len(tmp) == 1 else tmp[1].strip()\n",
    "        meta = tmp[0].strip()\n",
    "        \n",
    "        # remove the purchase via UMLive info (also removes reviews)\n",
    "        meta = meta.split('Purchase via UMLive')[0]\n",
    "        \n",
    "        # get the support (if any)\n",
    "        tmp = meta.split('Support:')\n",
    "        support = None if len(tmp) == 1 else tmp[1].strip(' \\n')\n",
    "        meta = tmp[0].strip()\n",
    "        \n",
    "        # get the notes (if any)\n",
    "        tmp = meta.split('Notes:')\n",
    "        notes = None if len(tmp) == 1 else tmp[1].split('\\n')\n",
    "        meta = tmp[0].strip()\n",
    "        \n",
    "        # get the tag captions\n",
    "        tags = re.split('([[]\\d+[]].)',meta)[1:]\n",
    "        tmp = {}\n",
    "        for i in range(int(len(tags)/2)):\n",
    "            tmp[tags[2*i].strip(' ][')] = tags[2*i+1]\n",
    "        tags = tmp  \n",
    "        \n",
    "        # add show to show dictionary\n",
    "        shows[date] = dict(title=title,\n",
    "                           sets=sets,\n",
    "                           reviews=reviews,\n",
    "                           support=support,\n",
    "                           notes=notes,\n",
    "                           tags=tags)"
   ]
  },
  {
   "cell_type": "code",
   "execution_count": 6,
   "metadata": {},
   "outputs": [],
   "source": [
    "# Create pandas dataframe\n",
    "df = pd.DataFrame()\n",
    "for date in shows:\n",
    "    row = {}\n",
    "    row['date'] = datetime.strptime(date, \"%m.%d.%Y\").date()\n",
    "    row['title'] = shows[date]['title']\n",
    "    if shows[date]['sets'] is not None:\n",
    "        for setlist in shows[date]['sets']:\n",
    "            row[setlist] = shows[date]['sets'][setlist]\n",
    "    row['reviews'] = shows[date]['reviews']\n",
    "    row['support'] = shows[date]['support']\n",
    "    row['notes'] = str(shows[date]['notes'])\n",
    "    row['tags'] = str(shows[date]['tags'])\n",
    "    df = df.append(pd.DataFrame(row, index=[0]))"
   ]
  },
  {
   "cell_type": "code",
   "execution_count": 7,
   "metadata": {},
   "outputs": [],
   "source": [
    "# create CSV\n",
    "df.to_csv('scrape_09_25_2020.csv')"
   ]
  }
 ],
 "metadata": {
  "kernelspec": {
   "display_name": "Python 3",
   "language": "python",
   "name": "python3"
  },
  "language_info": {
   "codemirror_mode": {
    "name": "ipython",
    "version": 3
   },
   "file_extension": ".py",
   "mimetype": "text/x-python",
   "name": "python",
   "nbconvert_exporter": "python",
   "pygments_lexer": "ipython3",
   "version": "3.6.10"
  }
 },
 "nbformat": 4,
 "nbformat_minor": 4
}
