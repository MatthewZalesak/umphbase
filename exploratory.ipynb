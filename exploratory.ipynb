{
 "cells": [
  {
   "cell_type": "code",
   "execution_count": 1,
   "metadata": {},
   "outputs": [],
   "source": [
    "import pandas as pd\n",
    "import collections\n",
    "import pickle"
   ]
  },
  {
   "cell_type": "code",
   "execution_count": 2,
   "metadata": {},
   "outputs": [],
   "source": [
    "shows = pd.read_pickle('pulls/shows_2020-12-17.pickle')\n",
    "songs = pd.read_pickle('pulls/songs_2020-12-17.pickle')\n",
    "live_songs = pd.read_pickle('pulls/live_songs_2020-12-17.pickle')"
   ]
  },
  {
   "cell_type": "markdown",
   "metadata": {},
   "source": [
    "### Export Song Abbreviations"
   ]
  },
  {
   "cell_type": "code",
   "execution_count": 3,
   "metadata": {},
   "outputs": [],
   "source": [
    "code_to_name = songs['name'].to_dict()\n",
    "name_to_code = {code_to_name[i] : i for i in code_to_name}\n",
    "codes = list(collections.OrderedDict(sorted(name_to_code.items())).items())"
   ]
  },
  {
   "cell_type": "code",
   "execution_count": 4,
   "metadata": {},
   "outputs": [],
   "source": [
    "table = {}\n",
    "for i in range(100):\n",
    "    table[i] = []\n",
    "for i in range(len(codes)):\n",
    "    table[i % 100].append(codes[i])\n",
    "for i in range(100):\n",
    "    table[i] = [item for sublist in table[i] for item in sublist]\n",
    "table = list(table.values())"
   ]
  },
  {
   "cell_type": "code",
   "execution_count": 5,
   "metadata": {},
   "outputs": [],
   "source": [
    "pd.DataFrame(table).to_csv('song_codes.csv')"
   ]
  }
 ],
 "metadata": {
  "kernelspec": {
   "display_name": "Python 3",
   "language": "python",
   "name": "python3"
  },
  "language_info": {
   "codemirror_mode": {
    "name": "ipython",
    "version": 3
   },
   "file_extension": ".py",
   "mimetype": "text/x-python",
   "name": "python",
   "nbconvert_exporter": "python",
   "pygments_lexer": "ipython3",
   "version": "3.6.10"
  }
 },
 "nbformat": 4,
 "nbformat_minor": 4
}
