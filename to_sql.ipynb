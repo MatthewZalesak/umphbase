{
 "cells": [
  {
   "cell_type": "code",
   "execution_count": 1,
   "id": "216cc3db",
   "metadata": {},
   "outputs": [],
   "source": [
    "import pandas as pd\n",
    "import numpy as np\n",
    "import datetime\n",
    "from sklearn.metrics import confusion_matrix\n",
    "import mysql.connector\n",
    "from mysql.connector.cursor import MySQLCursor\n",
    "from mysql.connector import errorcode"
   ]
  },
  {
   "cell_type": "code",
   "execution_count": 2,
   "id": "7fb30792",
   "metadata": {},
   "outputs": [],
   "source": [
    "# TODO: better handle case when the table exists\n",
    "def create_table(name, create, table, cursor):\n",
    "    \"\"\"Create a table in an SQL database.\n",
    "    \n",
    "    Warning: this function overrides any exisiting data!\n",
    "    \n",
    "    Attributes:\n",
    "        name (str): Name of the table\n",
    "        create (str): SQL statement for creating the table\n",
    "        table (pd.DataFrame): The table to be added\n",
    "        cursor (MySQLCursor): Cursor for MySQL database\n",
    "    \"\"\"\n",
    "    try:\n",
    "        cursor.execute(create)\n",
    "    except mysql.connector.Error as err:\n",
    "        print(err)\n",
    "        cursor.execute(\"DROP TABLE %s;\" % name)\n",
    "        cursor.execute(create)\n",
    "        \n",
    "    cols = ', '.join(list(table.columns))\n",
    "    vals = ', '.join(map((lambda x: '%%(%s)s' % x), list(table.columns)))\n",
    "    insert = \"\"\"INSERT INTO %s \n",
    "    (%s)\n",
    "    VALUES (%s)\n",
    "    \"\"\" % (name, cols, vals)\n",
    "\n",
    "    for row in table.reset_index().iterrows():\n",
    "        data = row[1].to_dict()\n",
    "        try:\n",
    "            cursor.execute(insert, data)\n",
    "        except mysql.connector.Error as err:\n",
    "            print(err)"
   ]
  },
  {
   "cell_type": "code",
   "execution_count": 3,
   "id": "0e004b30",
   "metadata": {},
   "outputs": [],
   "source": [
    "# connect to database\n",
    "cnx = mysql.connector.connect(user='root',\n",
    "                              password='HWROBB01',\n",
    "                              host='localhost',\n",
    "                              database='umphbase')\n",
    "cursor = cnx.cursor()"
   ]
  },
  {
   "cell_type": "code",
   "execution_count": 4,
   "id": "9ef41589",
   "metadata": {},
   "outputs": [
    {
     "name": "stdout",
     "output_type": "stream",
     "text": [
      "1050 (42S01): Table 'shows' already exists\n",
      "1054 (42S22): Unknown column 'nan' in 'field list'\n",
      "1054 (42S22): Unknown column 'nan' in 'field list'\n",
      "1054 (42S22): Unknown column 'nan' in 'field list'\n",
      "1054 (42S22): Unknown column 'nan' in 'field list'\n",
      "1054 (42S22): Unknown column 'nan' in 'field list'\n",
      "1054 (42S22): Unknown column 'nan' in 'field list'\n",
      "1054 (42S22): Unknown column 'nan' in 'field list'\n",
      "1054 (42S22): Unknown column 'nan' in 'field list'\n"
     ]
    }
   ],
   "source": [
    "shows = pd.read_pickle('atu_database/shows.pickle')\n",
    "shows['show_date'] = shows['show_date'].astype(str)\n",
    "\n",
    "create_shows = \"\"\"\n",
    "CREATE TABLE shows (\n",
    "    show_id BIGINT PRIMARY KEY,\n",
    "    show_date TEXT NOT NULL,\n",
    "    show_order TEXT NOT NULL,\n",
    "    artist TEXT NOT NULL,\n",
    "    venue_id TEXT NOT NULL,\n",
    "    tour_name TEXT NOT NULL,\n",
    "    show_notes LONGTEXT,\n",
    "    opener TEXT,\n",
    "    sound_check LONGTEXT\n",
    ");\n",
    "\"\"\"\n",
    "\n",
    "# TODO: decide how to deal with dates\n",
    "# TODO: Why are some nans not getting replaced?\n",
    "create_table('shows', create_shows, shows, cursor)"
   ]
  },
  {
   "cell_type": "code",
   "execution_count": 5,
   "id": "3e3279f4",
   "metadata": {},
   "outputs": [
    {
     "name": "stdout",
     "output_type": "stream",
     "text": [
      "1050 (42S01): Table 'songs' already exists\n"
     ]
    }
   ],
   "source": [
    "songs = pd.read_pickle('atu_database/songs.pickle')\n",
    "\n",
    "create_songs = \"\"\"\n",
    "CREATE TABLE songs (\n",
    "    song_id INT PRIMARY KEY,\n",
    "    name TEXT NOT NULL,\n",
    "    slug TEXT NOT NULL,\n",
    "    original_artist TEXT NOT NULL,\n",
    "    original BOOLEAN NOT NULL\n",
    ");\n",
    "\"\"\"\n",
    "\n",
    "create_table('songs', create_songs, songs, cursor)"
   ]
  },
  {
   "cell_type": "code",
   "execution_count": 6,
   "id": "59ca0c3d",
   "metadata": {},
   "outputs": [
    {
     "name": "stdout",
     "output_type": "stream",
     "text": [
      "1050 (42S01): Table 'venues' already exists\n"
     ]
    }
   ],
   "source": [
    "venues = pd.read_pickle('atu_database/venues.pickle')\n",
    "\n",
    "create_venues = \"\"\"\n",
    "CREATE TABLE venues (\n",
    "    venue_id TEXT NOT NULL,\n",
    "    venue_name TEXT NOT NULL,\n",
    "    city TEXT NOT NULL,\n",
    "    state TEXT,\n",
    "    country TEXT NOT NULL\n",
    ");\n",
    "\"\"\"\n",
    "\n",
    "create_table('venues', create_venues, venues, cursor)"
   ]
  },
  {
   "cell_type": "code",
   "execution_count": 7,
   "id": "3b68825a",
   "metadata": {},
   "outputs": [
    {
     "name": "stdout",
     "output_type": "stream",
     "text": [
      "1050 (42S01): Table 'live_songs' already exists\n"
     ]
    }
   ],
   "source": [
    "live_songs = pd.read_pickle('atu_database/live_songs.pickle')\n",
    "\n",
    "create_live_songs = \"\"\"\n",
    "CREATE TABLE live_songs (\n",
    "    live_song_id BIGINT PRIMARY KEY,\n",
    "    show_id BIGINT NOT NULL,\n",
    "    song_id INT NOT NULL,\n",
    "    set_number TEXT NOT NULL,\n",
    "    position INT NOT NULL,\n",
    "    transition TEXT,\n",
    "    footnote TEXT,\n",
    "    jamchart BOOLEAN NOT NULL,\n",
    "    jamchart_notes TEXT\n",
    ");\n",
    "\"\"\"\n",
    "\n",
    "create_table('live_songs', create_live_songs, live_songs, cursor)"
   ]
  },
  {
   "cell_type": "code",
   "execution_count": 8,
   "id": "97318a9b",
   "metadata": {},
   "outputs": [],
   "source": [
    "# commit changes and close connection\n",
    "cursor.close()\n",
    "cnx.commit()\n",
    "cnx.close()"
   ]
  }
 ],
 "metadata": {
  "kernelspec": {
   "display_name": "Python 3",
   "language": "python",
   "name": "python3"
  },
  "language_info": {
   "codemirror_mode": {
    "name": "ipython",
    "version": 3
   },
   "file_extension": ".py",
   "mimetype": "text/x-python",
   "name": "python",
   "nbconvert_exporter": "python",
   "pygments_lexer": "ipython3",
   "version": "3.8.8"
  }
 },
 "nbformat": 4,
 "nbformat_minor": 5
}
